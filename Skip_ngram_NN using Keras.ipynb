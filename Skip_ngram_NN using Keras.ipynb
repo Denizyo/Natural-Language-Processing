{
 "cells": [
  {
   "cell_type": "code",
   "execution_count": 34,
   "metadata": {
    "id": "JxELqx-WiMa9"
   },
   "outputs": [],
   "source": [
    "import pandas as pd\n",
    "import numpy as np"
   ]
  },
  {
   "cell_type": "code",
   "execution_count": 85,
   "metadata": {
    "colab": {
     "base_uri": "https://localhost:8080/"
    },
    "id": "UEubLVpBN4tb",
    "outputId": "af85e03d-2df0-4cce-c106-b49fd0853103"
   },
   "outputs": [
    {
     "name": "stdout",
     "output_type": "stream",
     "text": [
      "['data science professionals have promising career path']\n"
     ]
    }
   ],
   "source": [
    "corpus = ['data science professionals have promising career path']\n",
    "print(corpus)"
   ]
  },
  {
   "cell_type": "code",
   "execution_count": 86,
   "metadata": {
    "colab": {
     "base_uri": "https://localhost:8080/"
    },
    "id": "PqZai5yRLG4E",
    "outputId": "7830f504-c59a-4c1b-fb07-3776bce8af0c"
   },
   "outputs": [
    {
     "name": "stdout",
     "output_type": "stream",
     "text": [
      "['data', 'science', 'professionals', 'have', 'promising', 'career', 'path']\n"
     ]
    }
   ],
   "source": [
    "words = corpus[0].split(\" \")\n",
    "print(words)"
   ]
  },
  {
   "cell_type": "code",
   "execution_count": 87,
   "metadata": {
    "colab": {
     "base_uri": "https://localhost:8080/"
    },
    "id": "6147yuk3QbzI",
    "outputId": "0a80207b-8f75-45f1-b6d4-808b38a88060"
   },
   "outputs": [
    {
     "name": "stdout",
     "output_type": "stream",
     "text": [
      "{'data': 0, 'science': 1, 'professionals': 2, 'have': 3, 'promising': 4, 'career': 5, 'path': 6}\n"
     ]
    }
   ],
   "source": [
    "#4 Generate word number : optional\n",
    "word2int = {}\n",
    "\n",
    "for i,word in enumerate(words):\n",
    "    word2int[word] = i\n",
    "\n",
    "print(word2int)"
   ]
  },
  {
   "cell_type": "code",
   "execution_count": 89,
   "metadata": {
    "colab": {
     "base_uri": "https://localhost:8080/"
    },
    "id": "UIW6WsD9Qb9a",
    "outputId": "f81d02c3-9612-4afa-852c-515e616f8931"
   },
   "outputs": [
    {
     "name": "stdout",
     "output_type": "stream",
     "text": [
      "Window Size =  1\n",
      "Number of Entries =  12\n",
      "            input          label\n",
      "0            data        science\n",
      "1         science           data\n",
      "2         science  professionals\n",
      "3   professionals        science\n",
      "4   professionals           have\n",
      "5            have  professionals\n",
      "6            have      promising\n",
      "7       promising           have\n",
      "8       promising         career\n",
      "9          career      promising\n",
      "10         career           path\n",
      "11           path         career\n",
      "----------------------------------------\n",
      "Window Size =  2\n",
      "Number of Entries =  22\n",
      "            input          label\n",
      "0            data        science\n",
      "1            data  professionals\n",
      "2         science           data\n",
      "3         science  professionals\n",
      "4         science           have\n",
      "5   professionals           data\n",
      "6   professionals        science\n",
      "7   professionals           have\n",
      "8   professionals      promising\n",
      "9            have        science\n",
      "10           have  professionals\n",
      "11           have      promising\n",
      "12           have         career\n",
      "13      promising  professionals\n",
      "14      promising           have\n",
      "15      promising         career\n",
      "16      promising           path\n",
      "17         career           have\n",
      "18         career      promising\n",
      "19         career           path\n",
      "20           path      promising\n",
      "21           path         career\n",
      "----------------------------------------\n"
     ]
    }
   ],
   "source": [
    "WINDOW_SIZE_NUM = 2\n",
    "\n",
    "sentences = []\n",
    "for sentence in corpus:\n",
    "    sentences.append(sentence.split())\n",
    "\n",
    "for WINDOW_SIZE in np.arange (1,WINDOW_SIZE_NUM+1):\n",
    "    skipgram = []\n",
    "    for sentence in sentences:\n",
    "        for idx, word in enumerate(sentence):\n",
    "            for neighbor in sentence[max(idx - WINDOW_SIZE, 0) : min(idx + WINDOW_SIZE, len(sentence)) + 1] : \n",
    "                if neighbor != word:\n",
    "                    skipgram.append([word, neighbor])\n",
    "\n",
    "    print('Window Size = ', WINDOW_SIZE)\n",
    "    print('Number of Entries = ',len(skipgram))\n",
    "\n",
    "    skipgramDF = pd.DataFrame(skipgram, columns = ['input','label'])\n",
    "    print(skipgramDF)\n",
    "    print('----------------------------------------')"
   ]
  },
  {
   "cell_type": "code",
   "execution_count": 90,
   "metadata": {},
   "outputs": [
    {
     "name": "stdout",
     "output_type": "stream",
     "text": [
      "            input          label\n",
      "0            data        science\n",
      "1            data  professionals\n",
      "2         science           data\n",
      "3         science  professionals\n",
      "4         science           have\n",
      "5   professionals           data\n",
      "6   professionals        science\n",
      "7   professionals           have\n",
      "8   professionals      promising\n",
      "9            have        science\n",
      "10           have  professionals\n",
      "11           have      promising\n",
      "12           have         career\n",
      "13      promising  professionals\n",
      "14      promising           have\n",
      "15      promising         career\n",
      "16      promising           path\n",
      "17         career           have\n",
      "18         career      promising\n",
      "19         career           path\n",
      "20           path      promising\n",
      "21           path         career\n"
     ]
    }
   ],
   "source": [
    "skipNgram_df = pd.DataFrame(skipgram, columns = ['input','label'])\n",
    "print(skipNgram_df)"
   ]
  },
  {
   "cell_type": "code",
   "execution_count": 91,
   "metadata": {},
   "outputs": [
    {
     "name": "stdout",
     "output_type": "stream",
     "text": [
      "    career  data  have  path  professionals  promising  science\n",
      "0        0     1     0     0              0          0        0\n",
      "1        0     1     0     0              0          0        0\n",
      "2        0     0     0     0              0          0        1\n",
      "3        0     0     0     0              0          0        1\n",
      "4        0     0     0     0              0          0        1\n",
      "5        0     0     0     0              1          0        0\n",
      "6        0     0     0     0              1          0        0\n",
      "7        0     0     0     0              1          0        0\n",
      "8        0     0     0     0              1          0        0\n",
      "9        0     0     1     0              0          0        0\n",
      "10       0     0     1     0              0          0        0\n",
      "11       0     0     1     0              0          0        0\n",
      "12       0     0     1     0              0          0        0\n",
      "13       0     0     0     0              0          1        0\n",
      "14       0     0     0     0              0          1        0\n",
      "15       0     0     0     0              0          1        0\n",
      "16       0     0     0     0              0          1        0\n",
      "17       1     0     0     0              0          0        0\n",
      "18       1     0     0     0              0          0        0\n",
      "19       1     0     0     0              0          0        0\n",
      "20       0     0     0     1              0          0        0\n",
      "21       0     0     0     1              0          0        0\n"
     ]
    }
   ],
   "source": [
    "input_1 = pd.get_dummies(skipNgram_df.input)\n",
    "print(input_1)"
   ]
  },
  {
   "cell_type": "code",
   "execution_count": 92,
   "metadata": {},
   "outputs": [
    {
     "name": "stdout",
     "output_type": "stream",
     "text": [
      "    career  data  have  path  professionals  promising  science\n",
      "0        0     0     0     0              0          0        1\n",
      "1        0     0     0     0              1          0        0\n",
      "2        0     1     0     0              0          0        0\n",
      "3        0     0     0     0              1          0        0\n",
      "4        0     0     1     0              0          0        0\n",
      "5        0     1     0     0              0          0        0\n",
      "6        0     0     0     0              0          0        1\n",
      "7        0     0     1     0              0          0        0\n",
      "8        0     0     0     0              0          1        0\n",
      "9        0     0     0     0              0          0        1\n",
      "10       0     0     0     0              1          0        0\n",
      "11       0     0     0     0              0          1        0\n",
      "12       1     0     0     0              0          0        0\n",
      "13       0     0     0     0              1          0        0\n",
      "14       0     0     1     0              0          0        0\n",
      "15       1     0     0     0              0          0        0\n",
      "16       0     0     0     1              0          0        0\n",
      "17       0     0     1     0              0          0        0\n",
      "18       0     0     0     0              0          1        0\n",
      "19       0     0     0     1              0          0        0\n",
      "20       0     0     0     0              0          1        0\n",
      "21       1     0     0     0              0          0        0\n"
     ]
    }
   ],
   "source": [
    "label_1 = pd.get_dummies(skipNgram_df.label)\n",
    "print(label_1)"
   ]
  },
  {
   "cell_type": "code",
   "execution_count": 93,
   "metadata": {},
   "outputs": [],
   "source": [
    "corpus = ['I like deep learning','I like NLP','I enjoy flying']"
   ]
  },
  {
   "cell_type": "code",
   "execution_count": 94,
   "metadata": {},
   "outputs": [],
   "source": [
    "def remove_stop_words(corpus):\n",
    "    stop_words=['is','a','an','will','be','become','many','in','like','and']\n",
    "    results = []\n",
    "    for text in corpus:\n",
    "        tmp = text.split(' ')\n",
    "        for stop_word in stop_words:\n",
    "            if stop_word in tmp:\n",
    "                tmp.remove(stop_word)\n",
    "        results.append(\" \".join(tmp))\n",
    "    return results"
   ]
  },
  {
   "cell_type": "code",
   "execution_count": 95,
   "metadata": {},
   "outputs": [
    {
     "name": "stdout",
     "output_type": "stream",
     "text": [
      "['I deep learning', 'I NLP', 'I enjoy flying']\n"
     ]
    }
   ],
   "source": [
    "corpus = remove_stop_words(corpus)\n",
    "print(corpus)"
   ]
  },
  {
   "cell_type": "code",
   "execution_count": 96,
   "metadata": {},
   "outputs": [
    {
     "name": "stdout",
     "output_type": "stream",
     "text": [
      "['I', 'NLP', 'deep', 'enjoy', 'flying', 'learning']\n"
     ]
    }
   ],
   "source": [
    "words = []\n",
    "for text in corpus:\n",
    "    for word in text.split(' '):\n",
    "        words.append(word)\n",
    "\n",
    "words = sorted(set(words))\n",
    "print(words)"
   ]
  },
  {
   "cell_type": "code",
   "execution_count": 97,
   "metadata": {},
   "outputs": [
    {
     "name": "stdout",
     "output_type": "stream",
     "text": [
      "Window Size =  1\n",
      "Number of Entries =  10\n",
      "      input     label\n",
      "0         I      deep\n",
      "1      deep         I\n",
      "2      deep  learning\n",
      "3  learning      deep\n",
      "4         I       NLP\n",
      "5       NLP         I\n",
      "6         I     enjoy\n",
      "7     enjoy         I\n",
      "8     enjoy    flying\n",
      "9    flying     enjoy\n",
      "----------------------------------------\n",
      "Window Size =  2\n",
      "Number of Entries =  14\n",
      "       input     label\n",
      "0          I      deep\n",
      "1          I  learning\n",
      "2       deep         I\n",
      "3       deep  learning\n",
      "4   learning         I\n",
      "5   learning      deep\n",
      "6          I       NLP\n",
      "7        NLP         I\n",
      "8          I     enjoy\n",
      "9          I    flying\n",
      "10     enjoy         I\n",
      "11     enjoy    flying\n",
      "12    flying         I\n",
      "13    flying     enjoy\n",
      "----------------------------------------\n"
     ]
    }
   ],
   "source": [
    "WINDOW_SIZE_NUM = 2\n",
    "\n",
    "sentences = []\n",
    "for sentence in corpus:\n",
    "    sentences.append(sentence.split())\n",
    "\n",
    "for WINDOW_SIZE in np.arange (1,WINDOW_SIZE_NUM+1):\n",
    "    skipgram = []\n",
    "    for sentence in sentences:\n",
    "        for idx, word in enumerate(sentence):\n",
    "            for neighbor in sentence[max(idx - WINDOW_SIZE, 0) : min(idx + WINDOW_SIZE, len(sentence)) + 1] : \n",
    "                if neighbor != word:\n",
    "                    skipgram.append([word, neighbor])\n",
    "\n",
    "    print('Window Size = ', WINDOW_SIZE)\n",
    "    print('Number of Entries = ',len(skipgram))\n",
    "\n",
    "    skipgramDF = pd.DataFrame(skipgram, columns = ['input','label'])\n",
    "    print(skipgramDF)\n",
    "    print('----------------------------------------')"
   ]
  },
  {
   "cell_type": "code",
   "execution_count": 98,
   "metadata": {},
   "outputs": [
    {
     "name": "stdout",
     "output_type": "stream",
     "text": [
      "       input     label\n",
      "0          I      deep\n",
      "1          I  learning\n",
      "2       deep         I\n",
      "3       deep  learning\n",
      "4   learning         I\n",
      "5   learning      deep\n",
      "6          I       NLP\n",
      "7        NLP         I\n",
      "8          I     enjoy\n",
      "9          I    flying\n",
      "10     enjoy         I\n",
      "11     enjoy    flying\n",
      "12    flying         I\n",
      "13    flying     enjoy\n"
     ]
    }
   ],
   "source": [
    "skipNgram_df = pd.DataFrame(skipgram, columns = ['input','label'])\n",
    "print(skipNgram_df)"
   ]
  },
  {
   "cell_type": "code",
   "execution_count": 100,
   "metadata": {},
   "outputs": [
    {
     "name": "stdout",
     "output_type": "stream",
     "text": [
      "    I  NLP  deep  enjoy  flying  learning\n",
      "0   1    0     0      0       0         0\n",
      "1   1    0     0      0       0         0\n",
      "2   0    0     1      0       0         0\n",
      "3   0    0     1      0       0         0\n",
      "4   0    0     0      0       0         1\n",
      "5   0    0     0      0       0         1\n",
      "6   1    0     0      0       0         0\n",
      "7   0    1     0      0       0         0\n",
      "8   1    0     0      0       0         0\n",
      "9   1    0     0      0       0         0\n",
      "10  0    0     0      1       0         0\n",
      "11  0    0     0      1       0         0\n",
      "12  0    0     0      0       1         0\n",
      "13  0    0     0      0       1         0\n"
     ]
    }
   ],
   "source": [
    "input_2 = pd.get_dummies(skipNgram_df.input)\n",
    "print(input_2)"
   ]
  },
  {
   "cell_type": "code",
   "execution_count": 101,
   "metadata": {},
   "outputs": [
    {
     "name": "stdout",
     "output_type": "stream",
     "text": [
      "    I  NLP  deep  enjoy  flying  learning\n",
      "0   0    0     1      0       0         0\n",
      "1   0    0     0      0       0         1\n",
      "2   1    0     0      0       0         0\n",
      "3   0    0     0      0       0         1\n",
      "4   1    0     0      0       0         0\n",
      "5   0    0     1      0       0         0\n",
      "6   0    1     0      0       0         0\n",
      "7   1    0     0      0       0         0\n",
      "8   0    0     0      1       0         0\n",
      "9   0    0     0      0       1         0\n",
      "10  1    0     0      0       0         0\n",
      "11  0    0     0      0       1         0\n",
      "12  1    0     0      0       0         0\n",
      "13  0    0     0      1       0         0\n"
     ]
    }
   ],
   "source": [
    "label_2 = pd.get_dummies(skipNgram_df.label)\n",
    "print(label_2)"
   ]
  },
  {
   "cell_type": "code",
   "execution_count": 102,
   "metadata": {},
   "outputs": [
    {
     "data": {
      "text/plain": [
       "(14, 6)"
      ]
     },
     "execution_count": 102,
     "metadata": {},
     "output_type": "execute_result"
    }
   ],
   "source": [
    "input_2.shape"
   ]
  },
  {
   "cell_type": "code",
   "execution_count": 103,
   "metadata": {},
   "outputs": [
    {
     "data": {
      "text/plain": [
       "(14, 6)"
      ]
     },
     "execution_count": 103,
     "metadata": {},
     "output_type": "execute_result"
    }
   ],
   "source": [
    "label_2.shape"
   ]
  },
  {
   "cell_type": "code",
   "execution_count": 59,
   "metadata": {},
   "outputs": [
    {
     "name": "stderr",
     "output_type": "stream",
     "text": [
      "Using TensorFlow backend.\n"
     ]
    }
   ],
   "source": [
    "import keras\n",
    "from keras.models import Sequential\n",
    "from keras.layers import Dense"
   ]
  },
  {
   "cell_type": "code",
   "execution_count": 104,
   "metadata": {},
   "outputs": [
    {
     "name": "stdout",
     "output_type": "stream",
     "text": [
      "Model: \"sequential_2\"\n",
      "_________________________________________________________________\n",
      "Layer (type)                 Output Shape              Param #   \n",
      "=================================================================\n",
      "dense_3 (Dense)              (None, 2)                 14        \n",
      "_________________________________________________________________\n",
      "dense_4 (Dense)              (None, 6)                 18        \n",
      "=================================================================\n",
      "Total params: 32\n",
      "Trainable params: 32\n",
      "Non-trainable params: 0\n",
      "_________________________________________________________________\n"
     ]
    }
   ],
   "source": [
    "model = Sequential()\n",
    "model.add(Dense(2, input_dim = input_2.shape[1], activation='linear'))\n",
    "model.add(Dense(label_2.shape[1], activation = 'softmax'))\n",
    "\n",
    "model.compile(loss = 'categorical_crossentropy', optimizer = 'adam')\n",
    "\n",
    "model.summary()"
   ]
  },
  {
   "cell_type": "code",
   "execution_count": 105,
   "metadata": {},
   "outputs": [],
   "source": [
    "epochs = 20000\n",
    "hist = model.fit(input_2, label_2, verbose = 0, epochs = epochs)"
   ]
  },
  {
   "cell_type": "code",
   "execution_count": 106,
   "metadata": {},
   "outputs": [
    {
     "data": {
      "image/png": "[encoded data removed]",
      "text/plain": [
       "<Figure size 360x360 with 1 Axes>"
      ]
     },
     "metadata": {
      "needs_background": "light"
     },
     "output_type": "display_data"
    }
   ],
   "source": [
    "import matplotlib.pyplot as plt\n",
    "train_loss = hist.history['loss']\n",
    "xc = range(epochs)\n",
    "plt.plot(xc, train_loss)\n",
    "\n",
    "plt.figure(1, figsize=(7,5))\n",
    "plt.xlabel('num of epochs')\n",
    "plt.ylabel('loss')\n",
    "plt.title('train_loss')\n",
    "plt.grid(True)"
   ]
  },
  {
   "cell_type": "code",
   "execution_count": 107,
   "metadata": {},
   "outputs": [
    {
     "name": "stdout",
     "output_type": "stream",
     "text": [
      "Layer number= 0\n",
      "weights values=\n",
      "[[  4.471248    5.323792 ]\n",
      " [ -1.5692935  -1.4519668]\n",
      " [  2.0528016  -1.433134 ]\n",
      " [  5.281228   -8.062488 ]\n",
      " [-10.085553    1.8141742]\n",
      " [ -1.4540555   0.9130303]]\n",
      "bias values=\n"
     ]
    }
   ],
   "source": [
    "for layerNum, layer in enumerate(model.layers):\n",
    "    print('Layer number=', layerNum)\n",
    "    print('weights values=')\n",
    "    weights = layer.get_weights()[0]\n",
    "    print(weights)\n",
    "    \n",
    "    print('bias values=')\n",
    "    biases = layer.get_weights()[1]\n",
    "    break\n",
    "    print(biases)\n",
    "    print('================')"
   ]
  },
  {
   "cell_type": "code",
   "execution_count": 108,
   "metadata": {},
   "outputs": [
    {
     "name": "stdout",
     "output_type": "stream",
     "text": [
      "[[  2.7584014    3.9235904 ]\n",
      " [ -3.2821403   -2.8521683 ]\n",
      " [  0.33995497  -2.8333354 ]\n",
      " [  3.5683813   -9.462689  ]\n",
      " [-11.7984       0.41397262]\n",
      " [ -3.166902    -0.48717123]]\n"
     ]
    }
   ],
   "source": [
    "Word2Vec = weights + biases\n",
    "print(Word2Vec)"
   ]
  },
  {
   "cell_type": "code",
   "execution_count": 109,
   "metadata": {},
   "outputs": [
    {
     "data": {
      "text/html": [
       "<div>\n",
       "<style scoped>\n",
       "    .dataframe tbody tr th:only-of-type {\n",
       "        vertical-align: middle;\n",
       "    }\n",
       "\n",
       "    .dataframe tbody tr th {\n",
       "        vertical-align: top;\n",
       "    }\n",
       "\n",
       "    .dataframe thead th {\n",
       "        text-align: right;\n",
       "    }\n",
       "</style>\n",
       "<table border=\"1\" class=\"dataframe\">\n",
       "  <thead>\n",
       "    <tr style=\"text-align: right;\">\n",
       "      <th></th>\n",
       "      <th>word</th>\n",
       "      <th>x1</th>\n",
       "      <th>x2</th>\n",
       "    </tr>\n",
       "  </thead>\n",
       "  <tbody>\n",
       "    <tr>\n",
       "      <th>0</th>\n",
       "      <td>I</td>\n",
       "      <td>2.758401</td>\n",
       "      <td>3.923590</td>\n",
       "    </tr>\n",
       "    <tr>\n",
       "      <th>1</th>\n",
       "      <td>NLP</td>\n",
       "      <td>-3.282140</td>\n",
       "      <td>-2.852168</td>\n",
       "    </tr>\n",
       "    <tr>\n",
       "      <th>2</th>\n",
       "      <td>deep</td>\n",
       "      <td>0.339955</td>\n",
       "      <td>-2.833335</td>\n",
       "    </tr>\n",
       "    <tr>\n",
       "      <th>3</th>\n",
       "      <td>enjoy</td>\n",
       "      <td>3.568381</td>\n",
       "      <td>-9.462689</td>\n",
       "    </tr>\n",
       "    <tr>\n",
       "      <th>4</th>\n",
       "      <td>flying</td>\n",
       "      <td>-11.798400</td>\n",
       "      <td>0.413973</td>\n",
       "    </tr>\n",
       "    <tr>\n",
       "      <th>5</th>\n",
       "      <td>learning</td>\n",
       "      <td>-3.166902</td>\n",
       "      <td>-0.487171</td>\n",
       "    </tr>\n",
       "  </tbody>\n",
       "</table>\n",
       "</div>"
      ],
      "text/plain": [
       "       word         x1        x2\n",
       "0         I   2.758401  3.923590\n",
       "1       NLP  -3.282140 -2.852168\n",
       "2      deep   0.339955 -2.833335\n",
       "3     enjoy   3.568381 -9.462689\n",
       "4    flying -11.798400  0.413973\n",
       "5  learning  -3.166902 -0.487171"
      ]
     },
     "execution_count": 109,
     "metadata": {},
     "output_type": "execute_result"
    }
   ],
   "source": [
    "w2v_df = pd.DataFrame(Word2Vec, columns = ['x1', 'x2'])\n",
    "w2v_df['word'] = words\n",
    "w2v_df = w2v_df[['word','x1','x2']]\n",
    "w2v_df"
   ]
  },
  {
   "cell_type": "code",
   "execution_count": 110,
   "metadata": {},
   "outputs": [
    {
     "data": {
      "image/png": "[encoded data removed]",
      "text/plain": [
       "<Figure size 360x360 with 1 Axes>"
      ]
     },
     "metadata": {
      "needs_background": "light"
     },
     "output_type": "display_data"
    }
   ],
   "source": [
    "fig, ax = plt.subplots()\n",
    "\n",
    "for word,x1,x2 in zip(w2v_df['word'], w2v_df['x1'], w2v_df['x2']):\n",
    "    ax.annotate(word, (x1,x2))\n",
    "    \n",
    "PADDING = 1.0\n",
    "x_axis_min = np.amin(Word2Vec, axis=0)[0] - PADDING\n",
    "y_axis_min = np.amin(Word2Vec, axis=0)[1] - PADDING\n",
    "x_axis_max = np.amax(Word2Vec, axis=0)[0] + PADDING\n",
    "y_axis_max = np.amax(Word2Vec, axis=0)[1] + PADDING\n",
    "\n",
    "plt.xlim(x_axis_min, x_axis_max)\n",
    "plt.ylim(y_axis_min, y_axis_max)\n",
    "plt.rcParams['figure.figsize'] = (5,5)\n",
    "\n",
    "plt.show()"
   ]
  },
  {
   "cell_type": "code",
   "execution_count": null,
   "metadata": {},
   "outputs": [],
   "source": []
  }
 ],
 "metadata": {
  "colab": {
   "name": "01_HW12_P01_Skip_nGram_Self.ipynb",
   "provenance": []
  },
  "kernelspec": {
   "display_name": "Python 3",
   "language": "python",
   "name": "python3"
  },
  "language_info": {
   "codemirror_mode": {
    "name": "ipython",
    "version": 3
   },
   "file_extension": ".py",
   "mimetype": "text/x-python",
   "name": "python",
   "nbconvert_exporter": "python",
   "pygments_lexer": "ipython3",
   "version": "3.7.3"
  },
  "varInspector": {
   "cols": {
    "lenName": 16,
    "lenType": 16,
    "lenVar": 40
   },
   "kernels_config": {
    "python": {
     "delete_cmd_postfix": "",
     "delete_cmd_prefix": "del ",
     "library": "var_list.py",
     "varRefreshCmd": "print(var_dic_list())"
    },
    "r": {
     "delete_cmd_postfix": ") ",
     "delete_cmd_prefix": "rm(",
     "library": "var_list.r",
     "varRefreshCmd": "cat(var_dic_list()) "
    }
   },
   "types_to_exclude": [
    "module",
    "function",
    "builtin_function_or_method",
    "instance",
    "_Feature"
   ],
   "window_display": false
  }
 },
 "nbformat": 4,
 "nbformat_minor": 1
}
