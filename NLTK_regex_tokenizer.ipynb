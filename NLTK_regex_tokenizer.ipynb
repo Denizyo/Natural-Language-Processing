{
 "cells": [
  {
   "cell_type": "code",
   "execution_count": 1,
   "metadata": {},
   "outputs": [],
   "source": [
    "import pandas as pd\n",
    "import numpy as np\n",
    "import re\n",
    "import nltk"
   ]
  },
  {
   "cell_type": "code",
   "execution_count": 4,
   "metadata": {},
   "outputs": [
    {
     "name": "stdout",
     "output_type": "stream",
     "text": [
      "[nan, 'Afghanistan', nan, 'Albania', 'Algeria', 'Andorra', 'Angola', 'Antarctica', 'Argentina', 'Australia', 'Austria', 'Bahrain', 'Balearic Islands', 'Bangladesh', 'Belgium', 'Belize', 'Benin', 'Bhutan', 'Bolivia', 'Botswana', 'Brazil', 'Brunei', 'Bulgaria', 'Burkina Faso', 'Burma', 'Burundi', 'Cameroon', 'Canada', 'Central African Republic', 'Chad', 'Chile', 'China', 'Colombia', 'Congo', 'Corsica', 'Costa Rica', 'Crete', 'Cuba', 'Cyprus', 'Czechoslovakia', 'Denmark', 'Dominican Republic', 'Ecuador', 'Egypt', 'El Salvador', 'Ethiopia', 'Finland', 'France', 'French Guiana', 'Gabon', 'Galapagos', 'Gambia', 'Germany East', 'Germany West', 'Ghana', 'Greece', 'Greenland', 'Guatemala', 'Guinea', 'Guyana', 'Haiti', 'Hawaii', 'Honduras', 'Hong Kong', 'Hungary', 'Iceland', 'India', 'Indonesia', 'Iran', 'Iraq', 'Ireland', 'Israel', 'Italy', 'Ivory Coast', 'Jamaica', 'Japan', 'Jordan', 'Kampuchea', 'Kenya', 'Korea', 'Kuwait', 'Laos', 'Lebanon', 'Lesotho', 'Liberia', 'Libya', 'Liechtenstein', 'Luxembourg', 'Madagascar', 'Malawi', 'Malaysia', 'Mali', 'Malta', 'Mauritania', 'Mauritius', 'Mexico', 'Mongolia', 'Morocco', 'Mozambique', 'Namibia', 'Nepal', 'Netherlands', 'New Caledonia', 'New Zealand', 'Nicaragua', 'Niger', 'Nigeria', 'Norway', 'Oman', 'Pakistan', 'Panama', 'Papua New Guinea', 'Paraguay', 'Peru', 'Philippines', 'Poland', 'Portugal', 'Puerto Rico', 'Qatar', 'Reunion', 'Romania', 'Rwanda', 'Sardinia', 'Saudi Arabia', 'Senegal', 'Seychelles', 'Sicily', 'Sierra Leone', 'Singapore', 'Solomon Islands', 'Somalia', 'South Africa', 'Spain', 'Sri Lanka', 'St.Helena', 'Sudan', 'Suriname', 'Swaziland', 'Sweden', 'Switzerland', 'Syria', 'Taiwan', 'Tanzania', 'Thailand', 'Togo', 'Trinidad & Tobago', 'Tristan da Cunha', 'Tunisia', 'Turkey', 'Uganda', 'United Kingdom', 'Uruguay', 'USA', 'USSR', 'Vanuatu', 'Venezuela', 'Viet Nam', 'Yemen North', 'Yemen South', 'Yugoslavia', 'Zaire', 'Zambia', 'Zimbabwe']\n"
     ]
    }
   ],
   "source": [
    "floras= pd.read_csv('worldfloras.csv')\n",
    "a = list(floras['Country']) \n",
    "floras_deniz = ' ,'.join(str(e) for e in a) \n",
    "print(a) "
   ]
  },
  {
   "cell_type": "code",
   "execution_count": 256,
   "metadata": {},
   "outputs": [
    {
     "name": "stdout",
     "output_type": "stream",
     "text": [
      "<re.Match object; span=(385, 394), match=',Denmark '>\n",
      "<re.Match object; span=(394, 413), match=',Dominican Republic'>\n",
      "<re.Match object; span=(414, 423), match=',Ecuador '>\n",
      "<re.Match object; span=(423, 430), match=',Egypt '>\n",
      "<re.Match object; span=(430, 442), match=',El Salvador'>\n",
      "<re.Match object; span=(443, 453), match=',Ethiopia '>\n"
     ]
    }
   ],
   "source": [
    "pattern = re.compile(r'[^\\s](D|E)[a-z]\\w*\\s?\\w*')\n",
    "matches = pattern.finditer(floras_deniz)\n",
    "for match in matches:\n",
    "    print(match)"
   ]
  },
  {
   "cell_type": "code",
   "execution_count": 3,
   "metadata": {},
   "outputs": [
    {
     "name": "stdout",
     "output_type": "stream",
     "text": [
      "<re.Match object; span=(971, 985), match=',New Caledonia'>\n",
      "<re.Match object; span=(986, 998), match=',New Zealand'>\n"
     ]
    }
   ],
   "source": [
    "pattern = re.compile(r'[^\\s]New\\s[A-Z]\\w+')\n",
    "matches = pattern.finditer(floras_deniz)\n",
    "for match in matches:\n",
    "    print(match)"
   ]
  },
  {
   "cell_type": "code",
   "execution_count": 259,
   "metadata": {},
   "outputs": [
    {
     "name": "stdout",
     "output_type": "stream",
     "text": [
      "<re.Match object; span=(362, 368), match='Cyprus'>\n",
      "<re.Match object; span=(1366, 1371), match='Syria'>\n"
     ]
    }
   ],
   "source": [
    "pattern = re.compile(r'[A-Z]y[a-z]\\w*')\n",
    "matches = pattern.finditer(floras_deniz)\n",
    "for match in matches:\n",
    "    print(match)"
   ]
  },
  {
   "cell_type": "code",
   "execution_count": 260,
   "metadata": {},
   "outputs": [
    {
     "name": "stdout",
     "output_type": "stream",
     "text": [
      "<re.Match object; span=(1027, 1033), match='Norway'>\n",
      "<re.Match object; span=(1215, 1221), match='Sicily'>\n",
      "<re.Match object; span=(1453, 1459), match='Turkey'>\n"
     ]
    }
   ],
   "source": [
    "pattern = re.compile(r'[A-Z][a-z][a-z][a-z][a-z]y\\w*')\n",
    "matches = pattern.finditer(floras_deniz)\n",
    "for match in matches:\n",
    "    print(match)"
   ]
  },
  {
   "cell_type": "code",
   "execution_count": 261,
   "metadata": {},
   "outputs": [
    {
     "name": "stdout",
     "output_type": "stream",
     "text": [
      "<re.Match object; span=(370, 384), match='Czechoslovakia'>\n",
      "<re.Match object; span=(811, 824), match='Liechtenstein'>\n",
      "<re.Match object; span=(1203, 1213), match='Seychelles'>\n"
     ]
    }
   ],
   "source": [
    "pattern = re.compile(r'[A-Z][a-z][a-z]c\\w*')\n",
    "matches = pattern.finditer(floras_deniz)\n",
    "for match in matches:\n",
    "    print(match)"
   ]
  },
  {
   "cell_type": "code",
   "execution_count": 5,
   "metadata": {},
   "outputs": [
    {
     "name": "stdout",
     "output_type": "stream",
     "text": [
      "\n",
      "Project Gutenberg EBook of Hamlet, by William Shakespeare\n",
      "\n",
      "This eBook is for the use of anyone anywhere in the United States and\n",
      "most other parts of the world at no cost and with almost no\n",
      "restrictions whatsoever.  You may copy it, give it away or re-use it\n",
      "under the terms of the Project Gutenberg License included with this\n",
      "eBook or online at www.gutenberg.org.  If you are not located in the\n",
      "United States, youâ€™ll have to check the laws of the country where you\n",
      "are located before using this ebook.\n",
      "\n",
      "\n",
      "\n",
      "Title: Hamlet\n",
      "\n",
      "Author: William Shakespeare\n",
      "\n",
      "Release Date: November 1998 [EBook #1524]\n",
      "Last Updated: September 30, 2019\n",
      "\n",
      "Language: English\n",
      "\n",
      "Character set encoding: UTF-8\n",
      "\n",
      "*** START OF THIS PROJECT GUTENBERG EBOOK HAMLET ***\n",
      "\n",
      "\n",
      "\n",
      "This etext was prepared by Dianne Bean.\n",
      "\n",
      "\n",
      "THE TRAGEDY OF HAMLET, PRINCE OF DENMARK\n",
      "\n",
      "\n",
      "\n",
      "\n",
      "by William Shakespeare\n",
      "\n",
      "\n",
      "\n",
      "\n",
      "\n",
      "\n",
      "Contents\n",
      "\n",
      "ACT I\n",
      "Scene I. Elsinore. A platform before the Castle.\n",
      "Scene II. Elsinore. A room of state in the Castle\n",
      "Scene III. A room in Poloniusâ€™s h\n"
     ]
    }
   ],
   "source": [
    "Hamlet = open(\"Hamlet.txt\", \"r\")\n",
    "text1000 = Hamlet.read(1000)\n",
    "\n",
    "print(text1000)"
   ]
  },
  {
   "cell_type": "code",
   "execution_count": 263,
   "metadata": {},
   "outputs": [
    {
     "name": "stdout",
     "output_type": "stream",
     "text": [
      "Project\n",
      "Gutenberg\n",
      "EBook\n",
      "of\n",
      "Hamlet\n",
      "by\n",
      "William\n",
      "Shakespeare\n",
      "This\n",
      "eBook\n",
      "is\n",
      "for\n",
      "the\n",
      "use\n",
      "of\n",
      "anyone\n",
      "anywhere\n",
      "in\n",
      "the\n",
      "United\n",
      "States\n",
      "and\n",
      "most\n",
      "other\n",
      "parts\n",
      "of\n",
      "the\n",
      "world\n",
      "at\n",
      "no\n",
      "cost\n",
      "and\n",
      "with\n",
      "almost\n",
      "no\n",
      "restrictions\n",
      "whatsoever\n",
      "You\n",
      "may\n",
      "copy\n",
      "it\n",
      "give\n",
      "it\n",
      "away\n",
      "or\n",
      "re\n",
      "use\n",
      "it\n",
      "under\n",
      "the\n",
      "terms\n",
      "of\n",
      "the\n",
      "Project\n",
      "Gutenberg\n",
      "License\n",
      "included\n",
      "with\n",
      "this\n",
      "eBook\n",
      "or\n",
      "online\n",
      "at\n",
      "www\n",
      "gutenberg\n",
      "org\n",
      "If\n",
      "you\n",
      "are\n",
      "not\n",
      "located\n",
      "in\n",
      "the\n",
      "United\n",
      "States\n",
      "youâ\n",
      "ll\n",
      "have\n",
      "to\n",
      "check\n",
      "the\n",
      "laws\n",
      "of\n",
      "the\n",
      "country\n",
      "where\n",
      "you\n",
      "are\n",
      "located\n",
      "before\n",
      "using\n",
      "this\n",
      "ebook\n",
      "Title\n",
      "Hamlet\n",
      "Author\n",
      "William\n",
      "Shakespeare\n",
      "Release\n",
      "Date\n",
      "November\n",
      "1998\n",
      "EBook\n",
      "1524\n",
      "Last\n",
      "Updated\n",
      "September\n",
      "30\n",
      "2019\n",
      "Language\n",
      "English\n",
      "Character\n",
      "set\n",
      "encoding\n",
      "UTF\n",
      "8\n",
      "START\n",
      "OF\n",
      "THIS\n",
      "PROJECT\n",
      "GUTENBERG\n",
      "EBOOK\n",
      "HAMLET\n",
      "This\n",
      "etext\n",
      "was\n",
      "prepared\n",
      "by\n",
      "Dianne\n",
      "Bean\n",
      "THE\n",
      "TRAGEDY\n",
      "OF\n",
      "HAMLET\n",
      "PRINCE\n",
      "OF\n",
      "DENMARK\n",
      "by\n",
      "William\n",
      "Shakespeare\n",
      "Contents\n",
      "ACT\n",
      "I\n",
      "Scene\n",
      "I\n",
      "Elsinore\n",
      "A\n",
      "platform\n",
      "before\n",
      "the\n",
      "Castle\n",
      "Scene\n",
      "II\n",
      "Elsinore\n",
      "A\n",
      "room\n",
      "of\n",
      "state\n",
      "in\n",
      "the\n",
      "Castle\n",
      "Scene\n",
      "III\n",
      "A\n",
      "room\n",
      "in\n",
      "Poloniusâ\n",
      "s\n",
      "h\n"
     ]
    }
   ],
   "source": [
    "wordToken = r'\\w+'  \n",
    "matches = re.findall(wordToken, text1000)\n",
    "for match in matches:\n",
    "    print(match)"
   ]
  },
  {
   "cell_type": "code",
   "execution_count": 15,
   "metadata": {},
   "outputs": [
    {
     "name": "stdout",
     "output_type": "stream",
     "text": [
      "['\\nProject Gutenberg EBook of Hamlet, by William Shakespeare\\n\\nThis eBook is for the use of anyone anywhere in the United States and\\nmost other parts of the world at no cost and with almost no\\nrestrictions whatsoever', '  You may copy it, give it away or re-use it\\nunder the terms of the Project Gutenberg License included with this\\neBook or online at www', 'gutenberg', 'org', '  If you are not located in the\\nUnited States, youâ€™ll have to check the laws of the country where you\\nare located before using this ebook', '\\n\\n\\n\\nTitle: Hamlet\\n\\nAuthor: William Shakespeare\\n\\nRelease Date: November 1998 [EBook #1524]\\nLast Updated: September 30, 2019\\n\\nLanguage: English\\n\\nCharacter set encoding: UTF-8\\n\\n*** START OF THIS PROJECT GUTENBERG EBOOK HAMLET ***\\n\\n\\n\\nThis etext was prepared by Dianne Bean', '\\n\\n\\nTHE TRAGEDY OF HAMLET, PRINCE OF DENMARK\\n\\n\\n\\n\\nby William Shakespeare\\n\\n\\n\\n\\n\\n\\nContents\\n\\nACT I\\nScene I', ' Elsinore', ' A platform before the Castle', '\\nScene II', ' Elsinore', ' A room of state in the Castle\\nScene III', ' A room in Poloniusâ€™s h']\n"
     ]
    }
   ],
   "source": [
    "sentence_ending = re.compile(r'[.?!]') \n",
    "matches = sentence_ending.finditer(text1000)\n",
    "a = re.split(sentence_ending, text1000)\n",
    "#print_words(a,1)\n",
    "print(a)\n",
    "#print(re.split(sentence_ending, text1000))\n",
    "\n",
    "#for match in a:\n",
    " #   print(match)"
   ]
  },
  {
   "cell_type": "code",
   "execution_count": 16,
   "metadata": {},
   "outputs": [
    {
     "name": "stdout",
     "output_type": "stream",
     "text": [
      "['\\nProject Gutenberg EBook of Hamlet, by William Shakespeare\\n\\nThis eBook is for the use of anyone anywhere in the United States and\\nmost other parts of the world at no cost and with almost no\\nrestrictions whatsoever', '  You may copy it, give it away or re-use it\\nunder the terms of the Project Gutenberg License included with this\\neBook or online at www', 'gutenberg', 'org', '  If you are not located in the\\nUnited States, youâ€™ll have to check the laws of the country where you\\nare located before using this ebook', '\\n\\n\\n\\nTitle: Hamlet\\n\\nAuthor: William Shakespeare\\n\\nRelease Date: November 1998 [EBook #1524]\\nLast Updated: September 30, 2019\\n\\nLanguage: English\\n\\nCharacter set encoding: UTF-8\\n\\n*** START OF THIS PROJECT GUTENBERG EBOOK HAMLET ***\\n\\n\\n\\nThis etext was prepared by Dianne Bean', '\\n\\n\\nTHE TRAGEDY OF HAMLET, PRINCE OF DENMARK\\n\\n\\n\\n\\nby William Shakespeare\\n\\n\\n\\n\\n\\n\\nContents\\n\\nACT I\\nScene I', ' Elsinore', ' A platform before the Castle', '\\nScene II', ' Elsinore', ' A room of state in the Castle\\nScene III', ' A room in Poloniusâ€™s h']\n"
     ]
    }
   ],
   "source": [
    "sentence_ending = re.compile(r'[.?!]') \n",
    "a = re.split(sentence_ending, text1000)\n",
    "\n",
    "print(a)"
   ]
  },
  {
   "cell_type": "code",
   "execution_count": 17,
   "metadata": {},
   "outputs": [
    {
     "name": "stderr",
     "output_type": "stream",
     "text": [
      "[nltk_data] Downloading package punkt to\n",
      "[nltk_data]     C:\\Users\\deniz\\AppData\\Roaming\\nltk_data...\n",
      "[nltk_data]   Package punkt is already up-to-date!\n"
     ]
    }
   ],
   "source": [
    "nltk.download('punkt')\n",
    "from nltk.tokenize import word_tokenize, sent_tokenize"
   ]
  },
  {
   "cell_type": "code",
   "execution_count": 18,
   "metadata": {},
   "outputs": [
    {
     "name": "stdout",
     "output_type": "stream",
     "text": [
      "['\\nProject Gutenberg EBook of Hamlet, by William Shakespeare\\n\\nThis eBook is for the use of anyone anywhere in the United States and\\nmost other parts of the world at no cost and with almost no\\nrestrictions whatsoever.', 'You may copy it, give it away or re-use it\\nunder the terms of the Project Gutenberg License included with this\\neBook or online at www.gutenberg.org.', 'If you are not located in the\\nUnited States, youâ€™ll have to check the laws of the country where you\\nare located before using this ebook.', 'Title: Hamlet\\n\\nAuthor: William Shakespeare\\n\\nRelease Date: November 1998 [EBook #1524]\\nLast Updated: September 30, 2019\\n\\nLanguage: English\\n\\nCharacter set encoding: UTF-8\\n\\n*** START OF THIS PROJECT GUTENBERG EBOOK HAMLET ***\\n\\n\\n\\nThis etext was prepared by Dianne Bean.', 'THE TRAGEDY OF HAMLET, PRINCE OF DENMARK\\n\\n\\n\\n\\nby William Shakespeare\\n\\n\\n\\n\\n\\n\\nContents\\n\\nACT I\\nScene I. Elsinore.', 'A platform before the Castle.', 'Scene II.', 'Elsinore.', 'A room of state in the Castle\\nScene III.', 'A room in Poloniusâ€™s h']\n"
     ]
    }
   ],
   "source": [
    "sentences = sent_tokenize(text1000)\n",
    "print(sentences)"
   ]
  },
  {
   "cell_type": "code",
   "execution_count": 19,
   "metadata": {},
   "outputs": [
    {
     "name": "stdout",
     "output_type": "stream",
     "text": [
      "['Project', 'Gutenberg', 'EBook', 'of', 'Hamlet', ',', 'by', 'William', 'Shakespeare', 'This', 'eBook', 'is', 'for', 'the', 'use', 'of', 'anyone', 'anywhere', 'in', 'the', 'United', 'States', 'and', 'most', 'other', 'parts', 'of', 'the', 'world', 'at', 'no', 'cost', 'and', 'with', 'almost', 'no', 'restrictions', 'whatsoever', '.', 'You', 'may', 'copy', 'it', ',', 'give', 'it', 'away', 'or', 're-use', 'it', 'under', 'the', 'terms', 'of', 'the', 'Project', 'Gutenberg', 'License', 'included', 'with', 'this', 'eBook', 'or', 'online', 'at', 'www.gutenberg.org', '.', 'If', 'you', 'are', 'not', 'located', 'in', 'the', 'United', 'States', ',', 'youâ€™ll', 'have', 'to', 'check', 'the', 'laws', 'of', 'the', 'country', 'where', 'you', 'are', 'located', 'before', 'using', 'this', 'ebook', '.', 'Title', ':', 'Hamlet', 'Author', ':', 'William', 'Shakespeare', 'Release', 'Date', ':', 'November', '1998', '[', 'EBook', '#', '1524', ']', 'Last', 'Updated', ':', 'September', '30', ',', '2019', 'Language', ':', 'English', 'Character', 'set', 'encoding', ':', 'UTF-8', '*', '*', '*', 'START', 'OF', 'THIS', 'PROJECT', 'GUTENBERG', 'EBOOK', 'HAMLET', '*', '*', '*', 'This', 'etext', 'was', 'prepared', 'by', 'Dianne', 'Bean', '.', 'THE', 'TRAGEDY', 'OF', 'HAMLET', ',', 'PRINCE', 'OF', 'DENMARK', 'by', 'William', 'Shakespeare', 'Contents', 'ACT', 'I', 'Scene', 'I.', 'Elsinore', '.', 'A', 'platform', 'before', 'the', 'Castle', '.', 'Scene', 'II', '.', 'Elsinore', '.', 'A', 'room', 'of', 'state', 'in', 'the', 'Castle', 'Scene', 'III', '.', 'A', 'room', 'in', 'Poloniusâ€™s', 'h']\n"
     ]
    }
   ],
   "source": [
    "tokenized_word = word_tokenize(text1000)\n",
    "print(tokenized_word)"
   ]
  },
  {
   "cell_type": "code",
   "execution_count": 274,
   "metadata": {},
   "outputs": [
    {
     "name": "stdout",
     "output_type": "stream",
     "text": [
      "Todd Gurley II @TG3II Â· Feb 7 Should the NFL just retire #12 in the future?\n"
     ]
    }
   ],
   "source": [
    "tweet = open(\"Tweets.txt\", \"r\")\n",
    "T_deniz = tweet.read()\n",
    "print(T_deniz)"
   ]
  },
  {
   "cell_type": "code",
   "execution_count": 275,
   "metadata": {},
   "outputs": [
    {
     "data": {
      "text/plain": [
       "['Todd',\n",
       " 'Gurley',\n",
       " 'II',\n",
       " '@TG3II',\n",
       " 'Â',\n",
       " '·',\n",
       " 'Feb',\n",
       " '7',\n",
       " 'Should',\n",
       " 'the',\n",
       " 'NFL',\n",
       " 'just',\n",
       " 'retire',\n",
       " '#12',\n",
       " 'in',\n",
       " 'the',\n",
       " 'future',\n",
       " '?']"
      ]
     },
     "execution_count": 275,
     "metadata": {},
     "output_type": "execute_result"
    }
   ],
   "source": [
    "from nltk.tokenize import TweetTokenizer\n",
    "tknzr = TweetTokenizer()\n",
    "tknzr.tokenize(T_deniz)"
   ]
  },
  {
   "cell_type": "code",
   "execution_count": null,
   "metadata": {},
   "outputs": [],
   "source": []
  }
 ],
 "metadata": {
  "kernelspec": {
   "display_name": "Python 3",
   "language": "python",
   "name": "python3"
  },
  "language_info": {
   "codemirror_mode": {
    "name": "ipython",
    "version": 3
   },
   "file_extension": ".py",
   "mimetype": "text/x-python",
   "name": "python",
   "nbconvert_exporter": "python",
   "pygments_lexer": "ipython3",
   "version": "3.7.3"
  },
  "varInspector": {
   "cols": {
    "lenName": 16,
    "lenType": 16,
    "lenVar": 40
   },
   "kernels_config": {
    "python": {
     "delete_cmd_postfix": "",
     "delete_cmd_prefix": "del ",
     "library": "var_list.py",
     "varRefreshCmd": "print(var_dic_list())"
    },
    "r": {
     "delete_cmd_postfix": ") ",
     "delete_cmd_prefix": "rm(",
     "library": "var_list.r",
     "varRefreshCmd": "cat(var_dic_list()) "
    }
   },
   "types_to_exclude": [
    "module",
    "function",
    "builtin_function_or_method",
    "instance",
    "_Feature"
   ],
   "window_display": false
  }
 },
 "nbformat": 4,
 "nbformat_minor": 4
}
