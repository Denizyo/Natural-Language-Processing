{
 "cells": [
  {
   "cell_type": "code",
   "execution_count": 73,
   "metadata": {},
   "outputs": [],
   "source": [
    "import numpy as np\n",
    "from scipy import linalg as lg\n",
    "from scipy.linalg import svd\n",
    "from sklearn.feature_extraction.text import CountVectorizer\n",
    "import pandas as pd\n",
    "from sklearn.feature_extraction.text import TfidfTransformer \n",
    "from nltk.tokenize import TreebankWordTokenizer\n",
    "from collections import Counter\n",
    "from sklearn.feature_extraction.text import CountVectorizer\n",
    "from sklearn.decomposition import TruncatedSVD"
   ]
  },
  {
   "cell_type": "markdown",
   "metadata": {},
   "source": [
    "## Problem 1"
   ]
  },
  {
   "cell_type": "code",
   "execution_count": 25,
   "metadata": {},
   "outputs": [
    {
     "name": "stdout",
     "output_type": "stream",
     "text": [
      "[[ 3  1  1]\n",
      " [-1  3  1]]\n"
     ]
    }
   ],
   "source": [
    "A = np.array([[3,1,1],[-1,3,1]])\n",
    "print(A)"
   ]
  },
  {
   "cell_type": "code",
   "execution_count": 33,
   "metadata": {},
   "outputs": [],
   "source": [
    "V, Sigma, Ustar = svd(A)"
   ]
  },
  {
   "cell_type": "code",
   "execution_count": 34,
   "metadata": {},
   "outputs": [
    {
     "data": {
      "text/plain": [
       "array([[ 3.,  1.,  1.],\n",
       "       [-1.,  3.,  1.]])"
      ]
     },
     "execution_count": 34,
     "metadata": {},
     "output_type": "execute_result"
    }
   ],
   "source": [
    "sigmaMatrix = np.diag(Sigma) \n",
    "z= np.zeros((2,1)) \n",
    "sigmaMatrix_extended = np.hstack((sigmaMatrix,z))\n",
    "res=np.dot(V, sigmaMatrix_extended) \n",
    "recreateA = np.dot(res, Ustar)\n",
    "recreateA"
   ]
  },
  {
   "cell_type": "code",
   "execution_count": 35,
   "metadata": {},
   "outputs": [
    {
     "name": "stdout",
     "output_type": "stream",
     "text": [
      "[[ 1  1]\n",
      " [ 0  1]\n",
      " [-1  1]]\n"
     ]
    }
   ],
   "source": [
    "B = np.array([[1,1],[0,1], [-1,1]])\n",
    "print(B)"
   ]
  },
  {
   "cell_type": "code",
   "execution_count": 72,
   "metadata": {},
   "outputs": [
    {
     "data": {
      "text/plain": [
       "array([[ 1.,  1.],\n",
       "       [ 0.,  1.],\n",
       "       [-1.,  1.]])"
      ]
     },
     "execution_count": 72,
     "metadata": {},
     "output_type": "execute_result"
    }
   ],
   "source": [
    "V, Sigma, Ustar = svd(B)\n",
    "sigmaMatrix = np.diag(Sigma) \n",
    "z= np.zeros((1,2)) \n",
    "sigmaMatrix_extended = np.vstack((sigmaMatrix,z))\n",
    "res=np.dot(V, sigmaMatrix_extended) \n",
    "recreateB = np.dot(res, Ustar)\n",
    "recreateB"
   ]
  },
  {
   "cell_type": "markdown",
   "metadata": {},
   "source": [
    "## Problem 2 1)"
   ]
  },
  {
   "cell_type": "code",
   "execution_count": 148,
   "metadata": {},
   "outputs": [],
   "source": [
    "corpus = ['runs','runs pitcher innings','pitcher','touchdown','quarterback','touchdown quarterback']"
   ]
  },
  {
   "cell_type": "code",
   "execution_count": 149,
   "metadata": {},
   "outputs": [],
   "source": [
    "vectorizer = CountVectorizer() \n",
    "bag_of_words = vectorizer.fit_transform(corpus)"
   ]
  },
  {
   "cell_type": "code",
   "execution_count": 150,
   "metadata": {},
   "outputs": [],
   "source": [
    "df = pd.DataFrame(bag_of_words.toarray(), columns=vectorizer.get_feature_names())"
   ]
  },
  {
   "cell_type": "code",
   "execution_count": 151,
   "metadata": {},
   "outputs": [],
   "source": [
    "np.set_printoptions(precision=8, suppress=True)"
   ]
  },
  {
   "cell_type": "code",
   "execution_count": 152,
   "metadata": {},
   "outputs": [],
   "source": [
    "def normalized(pt1): \n",
    "    return pt1/np.linalg.norm(pt1)"
   ]
  },
  {
   "cell_type": "code",
   "execution_count": 153,
   "metadata": {},
   "outputs": [],
   "source": [
    "A = bag_of_words.toarray()[0]\n",
    "B = bag_of_words.toarray()[1]\n",
    "C = bag_of_words.toarray()[2]\n",
    "D = bag_of_words.toarray()[3]\n",
    "E = bag_of_words.toarray()[4]\n",
    "F = bag_of_words.toarray()[5]\n",
    "vectors = [A,B,C,D, E, F]"
   ]
  },
  {
   "cell_type": "code",
   "execution_count": 154,
   "metadata": {},
   "outputs": [],
   "source": [
    "Anormalized = normalized(A)\n",
    "Bnormalized = normalized(B)\n",
    "Cnormalized = normalized(C)\n",
    "Dnormalized = normalized(D)\n",
    "Enormalized = normalized(E)\n",
    "Fnormalized = normalized(F)\n",
    "vectorsNormalized = [Anormalized, Bnormalized, Cnormalized, Dnormalized, Enormalized, Fnormalized]"
   ]
  },
  {
   "cell_type": "code",
   "execution_count": 155,
   "metadata": {},
   "outputs": [],
   "source": [
    "def cosine_Similarity (pt1, pt2): \n",
    "    return np.dot(pt1,pt2)"
   ]
  },
  {
   "cell_type": "code",
   "execution_count": 156,
   "metadata": {},
   "outputs": [],
   "source": [
    "numDocu = len(corpus) \n",
    "cosine_SimMatrix = np.zeros((numDocu, numDocu))\n",
    "cosine_DisMatrix = np.zeros((numDocu, numDocu))"
   ]
  },
  {
   "cell_type": "code",
   "execution_count": 157,
   "metadata": {},
   "outputs": [],
   "source": [
    "for i in range(numDocu): \n",
    "    for j in range(numDocu): \n",
    "        cosine_SimMatrix[i,j] = cosine_Similarity(vectorsNormalized[i], vectorsNormalized[j]) \n",
    "        cosine_DisMatrix[i,j] = 1 - cosine_SimMatrix[i,j]"
   ]
  },
  {
   "cell_type": "code",
   "execution_count": 158,
   "metadata": {},
   "outputs": [
    {
     "name": "stdout",
     "output_type": "stream",
     "text": [
      "Cosine Similarity\n",
      "[[1.         0.57735027 0.         0.         0.         0.        ]\n",
      " [0.57735027 1.         0.57735027 0.         0.         0.        ]\n",
      " [0.         0.57735027 1.         0.         0.         0.        ]\n",
      " [0.         0.         0.         1.         0.         0.70710678]\n",
      " [0.         0.         0.         0.         1.         0.70710678]\n",
      " [0.         0.         0.         0.70710678 0.70710678 1.        ]]\n",
      "\n",
      "Cosine Distance\n",
      "[[ 0.          0.42264973  1.          1.          1.          1.        ]\n",
      " [ 0.42264973 -0.          0.42264973  1.          1.          1.        ]\n",
      " [ 1.          0.42264973  0.          1.          1.          1.        ]\n",
      " [ 1.          1.          1.          0.          1.          0.29289322]\n",
      " [ 1.          1.          1.          1.          0.          0.29289322]\n",
      " [ 1.          1.          1.          0.29289322  0.29289322  0.        ]]\n"
     ]
    }
   ],
   "source": [
    "print('Cosine Similarity')\n",
    "print(cosine_SimMatrix)\n",
    "\n",
    "print()\n",
    "print('Cosine Distance')\n",
    "print(cosine_DisMatrix)"
   ]
  },
  {
   "cell_type": "markdown",
   "metadata": {},
   "source": [
    "## Problem 2 2)"
   ]
  },
  {
   "cell_type": "code",
   "execution_count": 95,
   "metadata": {},
   "outputs": [
    {
     "data": {
      "text/plain": [
       "matrix([[0, 1, 0, 0, 0, 0],\n",
       "        [0, 1, 1, 0, 0, 0],\n",
       "        [0, 0, 0, 0, 1, 1],\n",
       "        [1, 1, 0, 0, 0, 0],\n",
       "        [0, 0, 0, 1, 0, 1]], dtype=int64)"
      ]
     },
     "execution_count": 95,
     "metadata": {},
     "output_type": "execute_result"
    }
   ],
   "source": [
    "A_word = bag_of_words.todense().T\n",
    "A_word"
   ]
  },
  {
   "cell_type": "code",
   "execution_count": 96,
   "metadata": {},
   "outputs": [
    {
     "data": {
      "text/plain": [
       "matrix([[0, 0, 0, 1, 0],\n",
       "        [1, 1, 0, 1, 0],\n",
       "        [0, 1, 0, 0, 0],\n",
       "        [0, 0, 0, 0, 1],\n",
       "        [0, 0, 1, 0, 0],\n",
       "        [0, 0, 1, 0, 1]], dtype=int64)"
      ]
     },
     "execution_count": 96,
     "metadata": {},
     "output_type": "execute_result"
    }
   ],
   "source": [
    "A_doc = bag_of_words.todense()\n",
    "A_doc"
   ]
  },
  {
   "cell_type": "markdown",
   "metadata": {},
   "source": [
    "## Problem 3"
   ]
  },
  {
   "cell_type": "code",
   "execution_count": 109,
   "metadata": {},
   "outputs": [],
   "source": [
    "np.set_printoptions(precision=8, suppress=True)"
   ]
  },
  {
   "cell_type": "code",
   "execution_count": 112,
   "metadata": {},
   "outputs": [
    {
     "name": "stdout",
     "output_type": "stream",
     "text": [
      "[[ 0.88807383  0.        ]\n",
      " [ 1.21313142  0.        ]\n",
      " [-0.          1.22474487]\n",
      " [ 1.21313142 -0.        ]\n",
      " [-0.          1.22474487]]\n"
     ]
    }
   ],
   "source": [
    "svd = TruncatedSVD(n_components = sigma_signifant_num) \n",
    "lsa_TDM = svd.fit_transform(bag_of_words.todense().T)\n",
    "print(lsa_TDM)"
   ]
  },
  {
   "cell_type": "code",
   "execution_count": 114,
   "metadata": {},
   "outputs": [
    {
     "name": "stdout",
     "output_type": "stream",
     "text": [
      "[[ 0.62796303 -0.        ]\n",
      " [ 1.7156269   0.        ]\n",
      " [ 0.62796303 -0.        ]\n",
      " [ 0.          0.70710678]\n",
      " [ 0.          0.70710678]\n",
      " [ 0.          1.41421356]]\n"
     ]
    }
   ],
   "source": [
    "lsa_DTM = svd.fit_transform(bag_of_words.todense())\n",
    "print(lsa_DTM)"
   ]
  },
  {
   "cell_type": "markdown",
   "metadata": {},
   "source": [
    "## Problem 4"
   ]
  },
  {
   "cell_type": "code",
   "execution_count": 125,
   "metadata": {},
   "outputs": [],
   "source": [
    "Anormalized = normalized([  0.62796303,  0 ])\n",
    "Bnormalized = normalized([ 1.7156269,  0        ])\n",
    "Cnormalized = normalized([0.62796303 ,       0])\n",
    "Dnormalized = normalized([ 0, 0.70710678        ])\n",
    "Enormalized = normalized([0 ,  0.70710678])\n",
    "Fnormalized = normalized([0 ,  1.41421356])\n",
    "\n",
    "vectorsNormalized = [Anormalized, Bnormalized, Cnormalized, Dnormalized, Enormalized, Fnormalized]"
   ]
  },
  {
   "cell_type": "code",
   "execution_count": 126,
   "metadata": {},
   "outputs": [],
   "source": [
    "numDocu = 6\n",
    "cosine_SimMatrix = np.zeros((numDocu, numDocu))\n",
    "cosine_DisMatrix = np.zeros((numDocu, numDocu))\n",
    "\n",
    "for i in range(numDocu): \n",
    "    for j in range(numDocu): \n",
    "        cosine_SimMatrix[i,j] = cosine_Similarity(vectorsNormalized[i], vectorsNormalized[j]) \n",
    "        cosine_DisMatrix[i,j] = 1 - cosine_SimMatrix[i,j]"
   ]
  },
  {
   "cell_type": "code",
   "execution_count": 127,
   "metadata": {},
   "outputs": [
    {
     "name": "stdout",
     "output_type": "stream",
     "text": [
      "Cosine Similarity\n",
      "[[1. 1. 1. 0. 0. 0.]\n",
      " [1. 1. 1. 0. 0. 0.]\n",
      " [1. 1. 1. 0. 0. 0.]\n",
      " [0. 0. 0. 1. 1. 1.]\n",
      " [0. 0. 0. 1. 1. 1.]\n",
      " [0. 0. 0. 1. 1. 1.]]\n",
      "\n",
      "Cosine Distance\n",
      "[[0. 0. 0. 1. 1. 1.]\n",
      " [0. 0. 0. 1. 1. 1.]\n",
      " [0. 0. 0. 1. 1. 1.]\n",
      " [1. 1. 1. 0. 0. 0.]\n",
      " [1. 1. 1. 0. 0. 0.]\n",
      " [1. 1. 1. 0. 0. 0.]]\n"
     ]
    }
   ],
   "source": [
    "print('Cosine Similarity')\n",
    "print(cosine_SimMatrix)\n",
    "\n",
    "print()\n",
    "print('Cosine Distance')\n",
    "print(cosine_DisMatrix)"
   ]
  },
  {
   "cell_type": "code",
   "execution_count": 136,
   "metadata": {},
   "outputs": [
    {
     "data": {
      "text/html": [
       "<div>\n",
       "<style scoped>\n",
       "    .dataframe tbody tr th:only-of-type {\n",
       "        vertical-align: middle;\n",
       "    }\n",
       "\n",
       "    .dataframe tbody tr th {\n",
       "        vertical-align: top;\n",
       "    }\n",
       "\n",
       "    .dataframe thead th {\n",
       "        text-align: right;\n",
       "    }\n",
       "</style>\n",
       "<table border=\"1\" class=\"dataframe\">\n",
       "  <thead>\n",
       "    <tr style=\"text-align: right;\">\n",
       "      <th></th>\n",
       "      <th>Corpus</th>\n",
       "      <th>Topic-1</th>\n",
       "      <th>Topic-2</th>\n",
       "    </tr>\n",
       "  </thead>\n",
       "  <tbody>\n",
       "    <tr>\n",
       "      <th>0</th>\n",
       "      <td>runs</td>\n",
       "      <td>6.279630e-01</td>\n",
       "      <td>-4.195011e-16</td>\n",
       "    </tr>\n",
       "    <tr>\n",
       "      <th>1</th>\n",
       "      <td>runs pitcher innings</td>\n",
       "      <td>1.715627e+00</td>\n",
       "      <td>1.444478e-16</td>\n",
       "    </tr>\n",
       "    <tr>\n",
       "      <th>2</th>\n",
       "      <td>pitcher</td>\n",
       "      <td>6.279630e-01</td>\n",
       "      <td>-4.604582e-17</td>\n",
       "    </tr>\n",
       "    <tr>\n",
       "      <th>3</th>\n",
       "      <td>touchdown</td>\n",
       "      <td>1.153397e-16</td>\n",
       "      <td>7.071068e-01</td>\n",
       "    </tr>\n",
       "    <tr>\n",
       "      <th>4</th>\n",
       "      <td>quarterback</td>\n",
       "      <td>1.531128e-16</td>\n",
       "      <td>7.071068e-01</td>\n",
       "    </tr>\n",
       "    <tr>\n",
       "      <th>5</th>\n",
       "      <td>touchdown quarterback</td>\n",
       "      <td>1.830560e-16</td>\n",
       "      <td>1.414214e+00</td>\n",
       "    </tr>\n",
       "  </tbody>\n",
       "</table>\n",
       "</div>"
      ],
      "text/plain": [
       "                  Corpus       Topic-1       Topic-2\n",
       "0                   runs  6.279630e-01 -4.195011e-16\n",
       "1   runs pitcher innings  1.715627e+00  1.444478e-16\n",
       "2                pitcher  6.279630e-01 -4.604582e-17\n",
       "3              touchdown  1.153397e-16  7.071068e-01\n",
       "4            quarterback  1.531128e-16  7.071068e-01\n",
       "5  touchdown quarterback  1.830560e-16  1.414214e+00"
      ]
     },
     "metadata": {},
     "output_type": "display_data"
    }
   ],
   "source": [
    "topic_encoded_df = pd.DataFrame(lsa_DTM, columns = [\"Topic-1\", \"Topic-2\"])\n",
    "topic_encoded_df[\"Corpus\"] = corpus \n",
    "display(topic_encoded_df[ ['Corpus', 'Topic-1', 'Topic-2']])"
   ]
  },
  {
   "cell_type": "code",
   "execution_count": 139,
   "metadata": {},
   "outputs": [],
   "source": [
    "import matplotlib.pyplot as plt"
   ]
  },
  {
   "cell_type": "code",
   "execution_count": 147,
   "metadata": {},
   "outputs": [
    {
     "data": {
      "text/plain": [
       "Text(0, 0.5, 'Topic-2')"
      ]
     },
     "execution_count": 147,
     "metadata": {},
     "output_type": "execute_result"
    },
    {
     "data": {
      "image/png": "[encoded data removed]",
      "text/plain": [
       "<Figure size 432x288 with 1 Axes>"
      ]
     },
     "metadata": {
      "needs_background": "light"
     },
     "output_type": "display_data"
    }
   ],
   "source": [
    "plt.scatter(topic_encoded_df['Topic-1'], topic_encoded_df['Topic-2'])\n",
    "plt.xlabel('Topic-1')\n",
    "plt.ylabel('Topic-2')"
   ]
  },
  {
   "cell_type": "markdown",
   "metadata": {},
   "source": [
    "#### 5) runs, runs pitcher innings and pitcher are for topic 1, touchdown, quarterback, touchdown quarterback are for topic 2"
   ]
  },
  {
   "cell_type": "markdown",
   "metadata": {},
   "source": [
    "#### 6) runs and pitcher for topic 1, touchdown and quarterback\tfor topic 2."
   ]
  },
  {
   "cell_type": "code",
   "execution_count": null,
   "metadata": {},
   "outputs": [],
   "source": []
  }
 ],
 "metadata": {
  "kernelspec": {
   "display_name": "Python 3",
   "language": "python",
   "name": "python3"
  },
  "language_info": {
   "codemirror_mode": {
    "name": "ipython",
    "version": 3
   },
   "file_extension": ".py",
   "mimetype": "text/x-python",
   "name": "python",
   "nbconvert_exporter": "python",
   "pygments_lexer": "ipython3",
   "version": "3.7.3"
  },
  "varInspector": {
   "cols": {
    "lenName": 16,
    "lenType": 16,
    "lenVar": 40
   },
   "kernels_config": {
    "python": {
     "delete_cmd_postfix": "",
     "delete_cmd_prefix": "del ",
     "library": "var_list.py",
     "varRefreshCmd": "print(var_dic_list())"
    },
    "r": {
     "delete_cmd_postfix": ") ",
     "delete_cmd_prefix": "rm(",
     "library": "var_list.r",
     "varRefreshCmd": "cat(var_dic_list()) "
    }
   },
   "types_to_exclude": [
    "module",
    "function",
    "builtin_function_or_method",
    "instance",
    "_Feature"
   ],
   "window_display": false
  }
 },
 "nbformat": 4,
 "nbformat_minor": 4
}
