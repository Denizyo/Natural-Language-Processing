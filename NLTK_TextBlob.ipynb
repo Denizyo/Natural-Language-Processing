{
 "cells": [
  {
   "cell_type": "code",
   "execution_count": 2,
   "metadata": {},
   "outputs": [
    {
     "name": "stdout",
     "output_type": "stream",
     "text": [
      "Collecting textblob\n",
      "  Downloading textblob-0.15.3-py2.py3-none-any.whl (636 kB)\n",
      "Requirement already satisfied: nltk>=3.1 in c:\\users\\deniz\\anaconda3\\lib\\site-packages (from textblob) (3.5)\n",
      "Requirement already satisfied: tqdm in c:\\users\\deniz\\anaconda3\\lib\\site-packages (from nltk>=3.1->textblob) (4.54.1)\n",
      "Requirement already satisfied: joblib in c:\\users\\deniz\\anaconda3\\lib\\site-packages (from nltk>=3.1->textblob) (1.0.0)\n",
      "Requirement already satisfied: regex in c:\\users\\deniz\\anaconda3\\lib\\site-packages (from nltk>=3.1->textblob) (2020.11.13)\n",
      "Requirement already satisfied: click in c:\\users\\deniz\\anaconda3\\lib\\site-packages (from nltk>=3.1->textblob) (7.1.2)\n",
      "Installing collected packages: textblob\n",
      "Successfully installed textblob-0.15.3\n"
     ]
    }
   ],
   "source": [
    "!pip install textblob"
   ]
  },
  {
   "cell_type": "code",
   "execution_count": 2,
   "metadata": {},
   "outputs": [
    {
     "name": "stderr",
     "output_type": "stream",
     "text": [
      "[nltk_data] Downloading package punkt to\n",
      "[nltk_data]     C:\\Users\\deniz\\AppData\\Roaming\\nltk_data...\n",
      "[nltk_data]   Package punkt is already up-to-date!\n",
      "[nltk_data] Downloading package brown to\n",
      "[nltk_data]     C:\\Users\\deniz\\AppData\\Roaming\\nltk_data...\n",
      "[nltk_data]   Package brown is already up-to-date!\n",
      "[nltk_data] Downloading package stopwords to\n",
      "[nltk_data]     C:\\Users\\deniz\\AppData\\Roaming\\nltk_data...\n",
      "[nltk_data]   Package stopwords is already up-to-date!\n"
     ]
    }
   ],
   "source": [
    "from textblob import TextBlob\n",
    "import nltk \n",
    "nltk.download('punkt') \n",
    "nltk.download('brown') \n",
    "nltk.download('stopwords') \n",
    "from nltk.corpus import stopwords"
   ]
  },
  {
   "cell_type": "code",
   "execution_count": 21,
   "metadata": {},
   "outputs": [],
   "source": [
    "textTotal = open('RomeoJuliet.txt').read() \n",
    "blobTotal = TextBlob(textTotal) \n",
    "numChars = 1000\n",
    "text1000 = textTotal[0:numChars+1] \n",
    "blob1000 = TextBlob(text1000)"
   ]
  },
  {
   "cell_type": "code",
   "execution_count": 22,
   "metadata": {},
   "outputs": [],
   "source": [
    "def print_words(list_words, numElementsRow):\n",
    "    for j in range (0,len(list_words),numElementsRow):\n",
    "        for i in range(j, j+numElementsRow):\n",
    "            if ( i >= len(list_words)):\n",
    "                break\n",
    "            print(i, '.', list_words[i], end=',')\n",
    "        print()\n",
    "    print() "
   ]
  },
  {
   "cell_type": "code",
   "execution_count": 29,
   "metadata": {},
   "outputs": [
    {
     "name": "stdout",
     "output_type": "stream",
     "text": [
      "0 . Project,1 . Gutenbergâ€™s,2 . Romeo,3 . and,4 . Juliet,5 . by,6 . William,7 . Shakespeare,8 . This,9 . eBook,\n",
      "10 . is,11 . for,12 . the,13 . use,14 . of,15 . anyone,16 . anywhere,17 . in,18 . the,19 . United,\n",
      "20 . States,21 . and,22 . most,23 . other,24 . parts,25 . of,26 . the,27 . world,28 . at,29 . no,\n",
      "30 . cost,31 . and,32 . with,33 . almost,34 . no,35 . restrictions,36 . whatsoever,37 . You,38 . may,39 . copy,\n",
      "40 . it,41 . give,42 . it,43 . away,44 . or,45 . re-use,46 . it,47 . under,48 . the,49 . terms,\n",
      "50 . of,51 . the,52 . Project,53 . Gutenberg,54 . License,55 . included,56 . with,57 . this,58 . eBook,59 . or,\n",
      "60 . online,61 . at,62 . www.gutenberg.org,63 . If,64 . you,65 . are,66 . not,67 . located,68 . in,69 . the,\n",
      "70 . United,71 . States,72 . youâ€™ll,73 . have,74 . to,75 . check,76 . the,77 . laws,78 . of,79 . the,\n",
      "80 . country,81 . where,82 . you,83 . are,84 . located,85 . before,86 . using,87 . this,88 . ebook,89 . Title,\n",
      "90 . Romeo,91 . and,92 . Juliet,93 . Author,94 . William,95 . Shakespeare,96 . Release,97 . Date,98 . November,99 . 1998,\n",
      "100 . Etext,101 . 1513,102 . Last,103 . Updated,104 . January,105 . 30,106 . 2019,107 . Language,108 . English,109 . Character,\n",
      "110 . set,111 . encoding,112 . UTF-8,113 . START,114 . OF,115 . THIS,116 . PROJECT,117 . GUTENBERG,118 . EBOOK,119 . ROMEO,\n",
      "120 . AND,121 . JULIET,122 . This,123 . etext,124 . was,125 . produced,126 . by,127 . the,128 . PG,129 . Shakespeare,\n",
      "130 . Team,131 . a,132 . team,133 . of,134 . about,135 . twenty,136 . Project,137 . Gutenberg,138 . volunteers,139 . THE,\n",
      "140 . TRAGEDY,141 . OF,142 . ROMEO,143 . AND,144 . JULIET,145 . by,146 . William,147 . Shakespeare,148 . Contents,149 . THE,\n",
      "150 . PROLOGUE,151 . ACT,152 . I,153 . Scene,154 . I,155 . A,156 . public,157 . place,158 . Scene,159 . II,\n",
      "160 . A,161 . Street,\n",
      "\n",
      "Count of words= 162\n"
     ]
    }
   ],
   "source": [
    "textTotal = open('RomeoJuliet.txt').read() \n",
    "blobTotal = TextBlob(textTotal) \n",
    "numChars = 1000\n",
    "text1000 = textTotal[0:numChars+1] \n",
    "blob1000 = TextBlob(text1000)\n",
    "\n",
    "#1\n",
    "\n",
    "print_words(blob1000.words,10)\n",
    "print('Count of words=', len(blob1000.words))"
   ]
  },
  {
   "cell_type": "code",
   "execution_count": 30,
   "metadata": {},
   "outputs": [
    {
     "name": "stdout",
     "output_type": "stream",
     "text": [
      "Count of words= 29270\n"
     ]
    }
   ],
   "source": [
    "#2\n",
    "print('Count of words=', len(blobTotal.words))"
   ]
  },
  {
   "cell_type": "code",
   "execution_count": 32,
   "metadata": {},
   "outputs": [
    {
     "name": "stdout",
     "output_type": "stream",
     "text": [
      "Count of unique words= 4326\n"
     ]
    }
   ],
   "source": [
    "#3\n",
    "unique = blobTotal.word_counts.items()\n",
    "print('Count of unique words=', len(unique))"
   ]
  },
  {
   "cell_type": "code",
   "execution_count": 41,
   "metadata": {},
   "outputs": [
    {
     "name": "stdout",
     "output_type": "stream",
     "text": [
      "4200\n"
     ]
    }
   ],
   "source": [
    "#4\n",
    "stop_words = stopwords.words('english')\n",
    "dict_UniqueWord_Freq = blobTotal.word_counts.items()\n",
    "\n",
    "list_UniqueWord_No_Stop_Freq = []\n",
    "for item in dict_UniqueWord_Freq:\n",
    "    if item[0] not in stop_words:\n",
    "        list_UniqueWord_No_Stop_Freq.append(item)\n",
    "    #print()\n",
    "print(len(list_UniqueWord_No_Stop_Freq))"
   ]
  },
  {
   "cell_type": "code",
   "execution_count": 46,
   "metadata": {},
   "outputs": [],
   "source": [
    "import pandas as pd\n",
    "from operator import itemgetter"
   ]
  },
  {
   "cell_type": "code",
   "execution_count": 47,
   "metadata": {},
   "outputs": [
    {
     "name": "stdout",
     "output_type": "stream",
     "text": [
      "   word  frequency\n",
      "0   the        876\n",
      "1   and        809\n",
      "2    to        624\n",
      "3     i        582\n",
      "4     a        543\n",
      "5    of        519\n",
      "6    in        395\n",
      "7    is        367\n",
      "8   you        364\n",
      "9  that        361\n"
     ]
    }
   ],
   "source": [
    "#5\n",
    "dict_UniqueWord_Freq = blobTotal.word_counts.items()\n",
    "sorted_items = sorted(list(dict_UniqueWord_Freq), key = itemgetter(1), reverse = True)\n",
    "numberTopWords = 10\n",
    "top10Words = sorted_items[0:numberTopWords]\n",
    "df= pd.DataFrame(top10Words, columns = ['word', 'frequency'])\n",
    "print(df)"
   ]
  },
  {
   "cell_type": "code",
   "execution_count": 48,
   "metadata": {},
   "outputs": [
    {
     "name": "stdout",
     "output_type": "stream",
     "text": [
      "      word  frequency\n",
      "0    romeo        304\n",
      "1     thou        277\n",
      "2   juliet        183\n",
      "3      thy        170\n",
      "4    nurse        149\n",
      "5  capulet        141\n",
      "6     thee        138\n",
      "7     love        137\n",
      "8    shall        112\n",
      "9     lady        109\n"
     ]
    }
   ],
   "source": [
    "#6\n",
    "sorted_items_2 = sorted(list_UniqueWord_No_Stop_Freq, key = itemgetter(1), reverse = True)\n",
    "top10Words_2 = sorted_items_2[0:numberTopWords]\n",
    "df= pd.DataFrame(top10Words_2, columns = ['word', 'frequency'])\n",
    "print(df)"
   ]
  },
  {
   "cell_type": "code",
   "execution_count": 27,
   "metadata": {},
   "outputs": [
    {
     "name": "stdout",
     "output_type": "stream",
     "text": [
      "0 . project gutenbergâ€™s romeo,1 . juliet,2 . william shakespeare,\n",
      "3 . restrictions whatsoever,4 . project gutenberg license,5 . title,\n",
      "6 . romeo,7 . juliet author,8 . william shakespeare release date,\n",
      "9 . november,10 . etext,11 . updated,\n",
      "12 . january,13 . language,14 . english character,\n",
      "15 . utf-8,16 . * * *,17 . start of this project gutenberg ebook romeo and juliet,\n",
      "18 . * * *,19 . pg shakespeare team,20 . project gutenberg,\n",
      "21 . the tragedy of romeo and juliet,22 . william shakespeare contents the prologue,23 . act,\n",
      "24 . scene,25 . public place,26 . scene ii,\n",
      "\n",
      "27\n"
     ]
    }
   ],
   "source": [
    "#7\n",
    "print_words(blob1000.noun_phrases,3)\n",
    "print(len(blob1000.noun_phrases))"
   ]
  },
  {
   "cell_type": "code",
   "execution_count": 28,
   "metadata": {},
   "outputs": [
    {
     "name": "stdout",
     "output_type": "stream",
     "text": [
      "4643\n"
     ]
    }
   ],
   "source": [
    "#8\n",
    "print(len(blobTotal.noun_phrases))"
   ]
  },
  {
   "cell_type": "code",
   "execution_count": 52,
   "metadata": {},
   "outputs": [
    {
     "name": "stdout",
     "output_type": "stream",
     "text": [
      "romeo repeats 280 times\n",
      "juliet repeats 167 times\n",
      "nurse repeats 131 times\n",
      "capulet repeats 86 times\n",
      "mercutio repeats 81 times\n",
      "benvolio repeats 72 times\n",
      "iâ€™ll repeats 71 times\n",
      "tybalt repeats 67 times\n",
      "friar lawrence repeats 59 times\n",
      "paris repeats 53 times\n"
     ]
    }
   ],
   "source": [
    "#9\n",
    "dictionary = blobTotal.np_counts\n",
    "rankedList = sorted(dictionary, key = dictionary.get, reverse=True)\n",
    "\n",
    "for i in range(0,10):\n",
    "    key = rankedList[i]\n",
    "    value = dictionary[key]\n",
    "    print(key + ' repeats ' + str(value) + ' times')"
   ]
  },
  {
   "cell_type": "code",
   "execution_count": 53,
   "metadata": {},
   "outputs": [
    {
     "name": "stdout",
     "output_type": "stream",
     "text": [
      "WATCH\n",
      "WATCH\n",
      "WATCH\n",
      "WATCH\n",
      "WATCH\n",
      "WATCH\n",
      "WATCH\n",
      "WATCH\n",
      "WARRANTY\n",
      "WARRANTY\n",
      "WARRANTIES\n",
      "WARRANTIES\n"
     ]
    }
   ],
   "source": [
    "#10\n",
    "for word in blobTotal.words:\n",
    "    if 'WA' in word:\n",
    "        print(word)"
   ]
  },
  {
   "cell_type": "code",
   "execution_count": 55,
   "metadata": {},
   "outputs": [
    {
     "name": "stdout",
     "output_type": "stream",
     "text": [
      "Collecting wordcloud\n",
      "  Downloading wordcloud-1.8.1-cp37-cp37m-win_amd64.whl (154 kB)\n",
      "Requirement already satisfied: numpy>=1.6.1 in c:\\users\\deniz\\anaconda3\\lib\\site-packages (from wordcloud) (1.19.2)\n",
      "Requirement already satisfied: pillow in c:\\users\\deniz\\anaconda3\\lib\\site-packages (from wordcloud) (8.0.1)\n",
      "Requirement already satisfied: matplotlib in c:\\users\\deniz\\anaconda3\\lib\\site-packages (from wordcloud) (3.3.2)\n",
      "Requirement already satisfied: kiwisolver>=1.0.1 in c:\\users\\deniz\\anaconda3\\lib\\site-packages (from matplotlib->wordcloud) (1.3.0)\n",
      "Requirement already satisfied: certifi>=2020.06.20 in c:\\users\\deniz\\anaconda3\\lib\\site-packages (from matplotlib->wordcloud) (2020.12.5)\n",
      "Requirement already satisfied: python-dateutil>=2.1 in c:\\users\\deniz\\anaconda3\\lib\\site-packages (from matplotlib->wordcloud) (2.8.1)\n",
      "Requirement already satisfied: pyparsing!=2.0.4,!=2.1.2,!=2.1.6,>=2.0.3 in c:\\users\\deniz\\anaconda3\\lib\\site-packages (from matplotlib->wordcloud) (2.4.7)\n",
      "Requirement already satisfied: cycler>=0.10 in c:\\users\\deniz\\anaconda3\\lib\\site-packages (from matplotlib->wordcloud) (0.10.0)\n",
      "Requirement already satisfied: six in c:\\users\\deniz\\anaconda3\\lib\\site-packages (from cycler>=0.10->matplotlib->wordcloud) (1.15.0)\n",
      "Installing collected packages: wordcloud\n",
      "Successfully installed wordcloud-1.8.1\n"
     ]
    }
   ],
   "source": [
    "!pip install wordcloud"
   ]
  },
  {
   "cell_type": "code",
   "execution_count": 61,
   "metadata": {},
   "outputs": [],
   "source": [
    "import imageio\n",
    "from wordcloud import WordCloud\n",
    "from PIL import Image\n",
    "import matplotlib.pyplot as plt"
   ]
  },
  {
   "cell_type": "code",
   "execution_count": 60,
   "metadata": {},
   "outputs": [
    {
     "data": {
      "text/plain": [
       "<bound method WordCloud.to_image of <wordcloud.wordcloud.WordCloud object at 0x0000027E314D4A90>>"
      ]
     },
     "execution_count": 60,
     "metadata": {},
     "output_type": "execute_result"
    }
   ],
   "source": [
    "#11\n",
    "mask_image = imageio.imread(str('mask_heart.png'))\n",
    "wordcloud = WordCloud(colormap = 'prism', mask=mask_image, background_color='white')\n",
    "wordcloudImage = wordcloud.generate(textTotal)\n",
    "\n",
    "wordcloudFile = wordcloudImage.to_file('Deniz.png')\n",
    "wordcloudImage.to_image"
   ]
  },
  {
   "cell_type": "code",
   "execution_count": 62,
   "metadata": {},
   "outputs": [
    {
     "data": {
      "text/plain": [
       "<matplotlib.image.AxesImage at 0x27e316721d0>"
      ]
     },
     "execution_count": 62,
     "metadata": {},
     "output_type": "execute_result"
    },
    {
     "data": {
      "image/png": "[encoded data removed]",
      "text/plain": [
       "<Figure size 432x288 with 1 Axes>"
      ]
     },
     "metadata": {
      "needs_background": "light"
     },
     "output_type": "display_data"
    }
   ],
   "source": [
    "im = Image.open('Deniz.png')\n",
    "fig, aux = plt.subplots()\n",
    "aux.imshow(im)"
   ]
  },
  {
   "cell_type": "code",
   "execution_count": null,
   "metadata": {},
   "outputs": [],
   "source": []
  }
 ],
 "metadata": {
  "kernelspec": {
   "display_name": "Python 3",
   "language": "python",
   "name": "python3"
  },
  "language_info": {
   "codemirror_mode": {
    "name": "ipython",
    "version": 3
   },
   "file_extension": ".py",
   "mimetype": "text/x-python",
   "name": "python",
   "nbconvert_exporter": "python",
   "pygments_lexer": "ipython3",
   "version": "3.7.3"
  },
  "varInspector": {
   "cols": {
    "lenName": 16,
    "lenType": 16,
    "lenVar": 40
   },
   "kernels_config": {
    "python": {
     "delete_cmd_postfix": "",
     "delete_cmd_prefix": "del ",
     "library": "var_list.py",
     "varRefreshCmd": "print(var_dic_list())"
    },
    "r": {
     "delete_cmd_postfix": ") ",
     "delete_cmd_prefix": "rm(",
     "library": "var_list.r",
     "varRefreshCmd": "cat(var_dic_list()) "
    }
   },
   "types_to_exclude": [
    "module",
    "function",
    "builtin_function_or_method",
    "instance",
    "_Feature"
   ],
   "window_display": false
  }
 },
 "nbformat": 4,
 "nbformat_minor": 4
}
